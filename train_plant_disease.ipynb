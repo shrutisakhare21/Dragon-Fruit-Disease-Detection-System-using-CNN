{
 "cells": [
  {
   "cell_type": "code",
   "execution_count": 8,
   "id": "a7db5894-e193-4193-bcfd-ff8509832f72",
   "metadata": {},
   "outputs": [],
   "source": [
    "import tensorflow as tf\n",
    "import matplotlib.pyplot as plt\n",
    "import pandas as pd\n",
    "import seaborn as sns"
   ]
  },
  {
   "cell_type": "code",
   "execution_count": null,
   "id": "ac0e9ead-3b46-4943-b3be-42c7e2031723",
   "metadata": {},
   "outputs": [],
   "source": [
    "#TRAINING:"
   ]
  },
  {
   "cell_type": "code",
   "execution_count": 10,
   "id": "f41ba086-7f8e-48ad-bdbf-a6c70a0d25e5",
   "metadata": {},
   "outputs": [
    {
     "name": "stdout",
     "output_type": "stream",
     "text": [
      "Found 6724 files belonging to 4 classes.\n"
     ]
    }
   ],
   "source": [
    "training_set = tf.keras.utils.image_dataset_from_directory(\n",
    "    'Augmented Dataset',\n",
    "    labels=\"inferred\",\n",
    "    label_mode=\"categorical\",\n",
    "    class_names=None,\n",
    "    color_mode=\"rgb\",\n",
    "    batch_size=32,\n",
    "    image_size=(128, 128),\n",
    "    shuffle=True,\n",
    "    seed=None,\n",
    "    validation_split=None,\n",
    "    subset=None,\n",
    "    interpolation=\"bilinear\",\n",
    "    follow_links=False,\n",
    "    crop_to_aspect_ratio=False\n",
    ")"
   ]
  },
  {
   "cell_type": "code",
   "execution_count": 7,
   "id": "56deaa99-6199-4163-8ce0-7800986668a2",
   "metadata": {},
   "outputs": [],
   "source": [
    "#VALIDATION :"
   ]
  },
  {
   "cell_type": "code",
   "execution_count": 12,
   "id": "1fe07957-ccc9-4b01-8d70-a4c2c4d925b0",
   "metadata": {},
   "outputs": [
    {
     "name": "stdout",
     "output_type": "stream",
     "text": [
      "Found 6724 files belonging to 4 classes.\n"
     ]
    }
   ],
   "source": [
    "validation_set = tf.keras.utils.image_dataset_from_directory(\n",
    "    'Augmented Dataset',\n",
    "    labels=\"inferred\",\n",
    "    label_mode=\"categorical\",\n",
    "    class_names=None,\n",
    "    color_mode=\"rgb\",\n",
    "    batch_size=32,\n",
    "    image_size=(128, 128),\n",
    "    shuffle=True,\n",
    "    seed=None,\n",
    "    validation_split=None,\n",
    "    subset=None,\n",
    "    interpolation=\"bilinear\",\n",
    "    follow_links=False,\n",
    "    crop_to_aspect_ratio=False\n",
    ")"
   ]
  },
  {
   "cell_type": "code",
   "execution_count": 277,
   "id": "b901cc26-46b6-4533-827b-ef8c506ee910",
   "metadata": {},
   "outputs": [],
   "source": [
    "#training_set - x maza training example ahe ani y maza level ahe\n",
    "#shape=(32, 128, 128, 3) => 32 means at a time we are feeding 32 images , 128,128 is size of img , 3 is rgb "
   ]
  },
  {
   "cell_type": "code",
   "execution_count": 14,
   "id": "701d6d32-c329-46d9-b1d2-ba57421d43d4",
   "metadata": {},
   "outputs": [
    {
     "name": "stdout",
     "output_type": "stream",
     "text": [
      "tf.Tensor(\n",
      "[[[[254.        240.        253.       ]\n",
      "   [254.        240.        253.       ]\n",
      "   [254.        240.        253.       ]\n",
      "   ...\n",
      "   [254.        240.        253.       ]\n",
      "   [254.        240.        253.       ]\n",
      "   [254.        240.        253.       ]]\n",
      "\n",
      "  [[254.        240.        253.       ]\n",
      "   [254.        240.        253.       ]\n",
      "   [254.        240.        253.       ]\n",
      "   ...\n",
      "   [254.        240.        253.       ]\n",
      "   [254.        240.        253.       ]\n",
      "   [254.        240.        253.       ]]\n",
      "\n",
      "  [[254.        240.        253.       ]\n",
      "   [254.        240.        253.       ]\n",
      "   [254.        240.        253.       ]\n",
      "   ...\n",
      "   [254.        240.        253.       ]\n",
      "   [254.        240.        253.       ]\n",
      "   [254.        240.        253.       ]]\n",
      "\n",
      "  ...\n",
      "\n",
      "  [[254.        240.        253.       ]\n",
      "   [254.        240.        253.       ]\n",
      "   [254.        240.        253.       ]\n",
      "   ...\n",
      "   [254.        240.        253.       ]\n",
      "   [254.        240.        253.       ]\n",
      "   [254.        240.        253.       ]]\n",
      "\n",
      "  [[254.        240.        253.       ]\n",
      "   [254.        240.        253.       ]\n",
      "   [254.        240.        253.       ]\n",
      "   ...\n",
      "   [254.        240.        253.       ]\n",
      "   [254.        240.        253.       ]\n",
      "   [254.        240.        253.       ]]\n",
      "\n",
      "  [[254.        240.        253.       ]\n",
      "   [254.        240.        253.       ]\n",
      "   [254.        240.        253.       ]\n",
      "   ...\n",
      "   [254.        240.        253.       ]\n",
      "   [254.        240.        253.       ]\n",
      "   [254.        240.        253.       ]]]\n",
      "\n",
      "\n",
      " [[[254.        240.        253.       ]\n",
      "   [254.        240.        253.       ]\n",
      "   [254.        240.        253.       ]\n",
      "   ...\n",
      "   [254.        240.        253.       ]\n",
      "   [254.        240.        253.       ]\n",
      "   [254.        240.        253.       ]]\n",
      "\n",
      "  [[254.        240.        253.       ]\n",
      "   [254.        240.        253.       ]\n",
      "   [254.        240.        253.       ]\n",
      "   ...\n",
      "   [254.        240.        253.       ]\n",
      "   [254.        240.        253.       ]\n",
      "   [254.        240.        253.       ]]\n",
      "\n",
      "  [[254.        240.        253.       ]\n",
      "   [254.        240.        253.       ]\n",
      "   [254.        240.        253.       ]\n",
      "   ...\n",
      "   [254.        240.        253.       ]\n",
      "   [254.        240.        253.       ]\n",
      "   [254.        240.        253.       ]]\n",
      "\n",
      "  ...\n",
      "\n",
      "  [[254.        240.        253.       ]\n",
      "   [254.        240.        253.       ]\n",
      "   [254.        240.        253.       ]\n",
      "   ...\n",
      "   [254.        240.        253.       ]\n",
      "   [254.        240.        253.       ]\n",
      "   [254.        240.        253.       ]]\n",
      "\n",
      "  [[254.        240.        253.       ]\n",
      "   [254.        240.        253.       ]\n",
      "   [254.        240.        253.       ]\n",
      "   ...\n",
      "   [254.        240.        253.       ]\n",
      "   [254.        240.        253.       ]\n",
      "   [254.        240.        253.       ]]\n",
      "\n",
      "  [[254.        240.        253.       ]\n",
      "   [254.        240.        253.       ]\n",
      "   [254.        240.        253.       ]\n",
      "   ...\n",
      "   [254.        240.        253.       ]\n",
      "   [254.        240.        253.       ]\n",
      "   [254.        240.        253.       ]]]\n",
      "\n",
      "\n",
      " [[[160.        215.        246.       ]\n",
      "   [160.        215.        246.       ]\n",
      "   [158.07812   213.07812   244.07812  ]\n",
      "   ...\n",
      "   [140.41321   150.6554    142.55695  ]\n",
      "   [ 41.780884   57.03479    49.421204 ]\n",
      "   [ 29.146729   52.33313    36.293762 ]]\n",
      "\n",
      "  [[160.        215.        246.       ]\n",
      "   [160.        215.        246.       ]\n",
      "   [159.04059   214.04059   245.04059  ]\n",
      "   ...\n",
      "   [ 39.637634   56.59857    45.118103 ]\n",
      "   [ 27.435913   49.46808    33.963257 ]\n",
      "   [ 23.511414   50.511414   33.511414 ]]\n",
      "\n",
      "  [[160.        215.        246.       ]\n",
      "   [160.        215.        246.       ]\n",
      "   [159.98444   214.98444   245.98444  ]\n",
      "   ...\n",
      "   [ 28.558777   50.715027   37.6369   ]\n",
      "   [ 22.124146   49.19922    32.161682 ]\n",
      "   [ 24.214844   52.816406   33.414062 ]]\n",
      "\n",
      "  ...\n",
      "\n",
      "  [[ 11.012512   28.012512   20.012512 ]\n",
      "   [  9.         25.800781   15.800781 ]\n",
      "   [  9.26178    22.26178    13.26178  ]\n",
      "   ...\n",
      "   [141.33215   156.32434   133.6095   ]\n",
      "   [125.628235  155.13367   121.5907   ]\n",
      "   [113.57892   152.18048   107.575806 ]]\n",
      "\n",
      "  [[  9.527039   26.007507   16.968445 ]\n",
      "   [  8.         24.         14.       ]\n",
      "   [  7.0421143  23.521057   14.478943 ]\n",
      "   ...\n",
      "   [147.24762   157.52106   140.24915  ]\n",
      "   [135.35822   159.4129    130.83868  ]\n",
      "   [119.50391   154.5039    113.52673  ]]\n",
      "\n",
      "  [[  8.002502   24.002502   14.002502 ]\n",
      "   [  7.         23.         13.       ]\n",
      "   [  4.451538   23.         16.84375  ]\n",
      "   ...\n",
      "   [152.24457   157.07812   142.52344  ]\n",
      "   [139.54657   157.96814   133.36206  ]\n",
      "   [125.49078   155.8111    121.29938  ]]]\n",
      "\n",
      "\n",
      " ...\n",
      "\n",
      "\n",
      " [[[ 76.        112.         66.       ]\n",
      "   [ 76.        112.         66.       ]\n",
      "   [ 76.        112.         66.       ]\n",
      "   ...\n",
      "   [ 68.828125  110.953125  107.078125 ]\n",
      "   [ 71.125     110.125     109.125    ]\n",
      "   [ 71.875     105.875     107.875    ]]\n",
      "\n",
      "  [[ 76.        112.         66.       ]\n",
      "   [ 76.        112.         66.       ]\n",
      "   [ 76.        112.         66.       ]\n",
      "   ...\n",
      "   [ 73.6875    119.6875    109.5625   ]\n",
      "   [ 67.515625  106.515625  103.515625 ]\n",
      "   [ 69.328125  101.421875  106.421875 ]]\n",
      "\n",
      "  [[ 76.        112.         66.       ]\n",
      "   [ 76.        112.         66.       ]\n",
      "   [ 76.        112.         66.       ]\n",
      "   ...\n",
      "   [ 75.171875  118.21875   110.953125 ]\n",
      "   [ 72.125     114.125     110.375    ]\n",
      "   [ 68.046875  110.296875  108.421875 ]]\n",
      "\n",
      "  ...\n",
      "\n",
      "  [[236.20312   216.20312   215.45312  ]\n",
      "   [222.82812   202.57812   203.70312  ]\n",
      "   [237.71875   218.79688   221.17188  ]\n",
      "   ...\n",
      "   [202.01562   236.01562   246.26562  ]\n",
      "   [181.04688   200.8125    199.79688  ]\n",
      "   [150.03125   158.125     165.57812  ]]\n",
      "\n",
      "  [[253.57812   240.42188   253.53125  ]\n",
      "   [254.125     239.85938   253.20312  ]\n",
      "   [253.96875   237.375     250.45312  ]\n",
      "   ...\n",
      "   [159.625     189.125     204.67188  ]\n",
      "   [112.3125    120.671875  129.45312  ]\n",
      "   [101.328125  101.734375  106.984375 ]]\n",
      "\n",
      "  [[157.65625   138.9375    146.67188  ]\n",
      "   [242.65625   225.54688   234.0625   ]\n",
      "   [254.01562   240.76562   251.09375  ]\n",
      "   ...\n",
      "   [226.57812   234.35938   249.9375   ]\n",
      "   [106.921875   89.671875  107.796875 ]\n",
      "   [103.78125    82.78125   101.78125  ]]]\n",
      "\n",
      "\n",
      " [[[ 66.645996  107.66162    67.625    ]\n",
      "   [ 36.03174    53.5708     43.2041   ]\n",
      "   [  4.8168945   9.888916    3.868164 ]\n",
      "   ...\n",
      "   [  4.810791   15.          7.       ]\n",
      "   [  9.476074   23.00415    13.828125 ]\n",
      "   [ 12.997559   30.84497    19.15503  ]]\n",
      "\n",
      "  [[ 72.507324  112.52295    75.52246  ]\n",
      "   [ 69.44043    95.91699    72.92627  ]\n",
      "   [  5.114746   12.697998    8.151123 ]\n",
      "   ...\n",
      "   [  6.604248   21.010498   11.541748 ]\n",
      "   [ 14.5078125  30.989014   20.989014 ]\n",
      "   [ 12.4765625  32.476562   21.476562 ]]\n",
      "\n",
      "  [[ 84.6521    123.86914    92.24585  ]\n",
      "   [ 58.322754   95.73682    59.489502 ]\n",
      "   [ 15.597168   28.42456    21.50415  ]\n",
      "   ...\n",
      "   [ 13.008545   30.008545   20.008545 ]\n",
      "   [ 12.822998   32.822998   21.822998 ]\n",
      "   [ 13.217041   33.21704    22.217041 ]]\n",
      "\n",
      "  ...\n",
      "\n",
      "  [[  2.7629395   8.78125     4.7751465]\n",
      "   [  5.994873   11.776123    7.776123 ]\n",
      "   [  3.2663574   9.2578125   5.2578125]\n",
      "   ...\n",
      "   [178.63354   166.32031   156.5896   ]\n",
      "   [169.50244   157.94507   145.89307  ]\n",
      "   [161.59985   150.38281   132.8169   ]]\n",
      "\n",
      "  [[  2.          8.          4.       ]\n",
      "   [  3.9765625   8.9765625   4.9765625]\n",
      "   [  5.057373   11.018311    7.0183105]\n",
      "   ...\n",
      "   [179.00244   170.92432   157.96338  ]\n",
      "   [169.        159.        147.       ]\n",
      "   [160.0542    148.0542    134.03857  ]]\n",
      "\n",
      "  [[  2.9921875   8.9921875   4.9921875]\n",
      "   [  5.         10.          6.       ]\n",
      "   [  5.0061035  10.967041    6.967041 ]\n",
      "   ...\n",
      "   [177.08423   170.        154.05737  ]\n",
      "   [172.64062   162.64062   150.64062  ]\n",
      "   [167.65625   155.65625   141.65625  ]]]\n",
      "\n",
      "\n",
      " [[[158.60118    44.         60.898438 ]\n",
      "   [164.25114    43.131668   62.414062 ]\n",
      "   [168.86519    40.398346   62.17569  ]\n",
      "   ...\n",
      "   [172.58784    12.570221   34.085846 ]\n",
      "   [245.8125     72.70474   101.98714  ]\n",
      "   [255.        116.871475  145.42616  ]]\n",
      "\n",
      "  [[146.94302    40.27896    54.610992 ]\n",
      "   [155.48       43.54344    59.664062 ]\n",
      "   [162.7341     42.66797    61.869003 ]\n",
      "   ...\n",
      "   [170.52943    12.498184   30.830215 ]\n",
      "   [246.48781    77.64406   101.12547  ]\n",
      "   [251.21094   106.03677   129.70084  ]]\n",
      "\n",
      "  [[133.98628    31.986282   45.986282 ]\n",
      "   [145.3531     38.030975   54.030975 ]\n",
      "   [155.60547    42.60547    60.60547  ]\n",
      "   ...\n",
      "   [161.16315    18.26471    31.733002 ]\n",
      "   [242.03488    86.90834   100.68178  ]\n",
      "   [254.98628   104.35556   123.34184  ]]\n",
      "\n",
      "  ...\n",
      "\n",
      "  [[106.09766   121.12109    38.140717 ]\n",
      "   [114.969025  138.72656    49.904434 ]\n",
      "   [128.13718   152.67406    53.063416 ]\n",
      "   ...\n",
      "   [ 90.66016    71.43359    56.20703  ]\n",
      "   [ 86.20857    69.05414    51.59529  ]\n",
      "   [ 73.33194    57.21866    40.992096 ]]\n",
      "\n",
      "  [[106.06755   124.30974    39.946457 ]\n",
      "   [123.511246  146.99657    55.753906 ]\n",
      "   [131.00754   153.613      51.060135 ]\n",
      "   ...\n",
      "   [ 53.53488    38.198944   25.863007 ]\n",
      "   [ 56.15921    42.15921    29.823273 ]\n",
      "   [ 51.205887   37.205887   26.86995  ]]\n",
      "\n",
      "  [[113.32889   135.7418     48.140625 ]\n",
      "   [129.13167   153.13167    56.850418 ]\n",
      "   [137.59375   159.0644     52.828125 ]\n",
      "   ...\n",
      "   [ 44.558502   34.294968   24.382812 ]\n",
      "   [ 45.717606   32.717606   23.717606 ]\n",
      "   [ 45.90587    31.905869   22.905869 ]]]], shape=(32, 128, 128, 3), dtype=float32) (32, 128, 128, 3)\n",
      "tf.Tensor(\n",
      "[[0. 0. 1. 0.]\n",
      " [0. 0. 1. 0.]\n",
      " [0. 0. 1. 0.]\n",
      " [1. 0. 0. 0.]\n",
      " [1. 0. 0. 0.]\n",
      " [0. 0. 1. 0.]\n",
      " [1. 0. 0. 0.]\n",
      " [1. 0. 0. 0.]\n",
      " [1. 0. 0. 0.]\n",
      " [1. 0. 0. 0.]\n",
      " [0. 0. 1. 0.]\n",
      " [0. 0. 1. 0.]\n",
      " [0. 0. 1. 0.]\n",
      " [0. 0. 1. 0.]\n",
      " [0. 0. 1. 0.]\n",
      " [0. 0. 0. 1.]\n",
      " [0. 0. 1. 0.]\n",
      " [1. 0. 0. 0.]\n",
      " [0. 0. 1. 0.]\n",
      " [0. 0. 1. 0.]\n",
      " [0. 0. 1. 0.]\n",
      " [0. 0. 1. 0.]\n",
      " [0. 1. 0. 0.]\n",
      " [0. 0. 1. 0.]\n",
      " [0. 0. 1. 0.]\n",
      " [0. 0. 1. 0.]\n",
      " [1. 0. 0. 0.]\n",
      " [0. 0. 1. 0.]\n",
      " [0. 0. 1. 0.]\n",
      " [1. 0. 0. 0.]\n",
      " [0. 0. 1. 0.]\n",
      " [0. 1. 0. 0.]], shape=(32, 4), dtype=float32) (32, 4)\n"
     ]
    }
   ],
   "source": [
    "for x , y in training_set:\n",
    "    print(x,x.shape)\n",
    "    print(y,y.shape)\n",
    "    break"
   ]
  },
  {
   "cell_type": "code",
   "execution_count": 11,
   "id": "f3ea4016-80d4-4cdf-8422-25a5055167e1",
   "metadata": {},
   "outputs": [],
   "source": [
    "#Building model"
   ]
  },
  {
   "cell_type": "code",
   "execution_count": 16,
   "id": "e5f7b103-f6e5-4dbc-a48f-e0f9a944f213",
   "metadata": {},
   "outputs": [],
   "source": [
    "from tensorflow.keras.layers import Dense, Conv2D, MaxPool2D, Flatten\n",
    "from tensorflow.keras.models import Sequential"
   ]
  },
  {
   "cell_type": "code",
   "execution_count": 22,
   "id": "298d13e0-d376-4f74-93c0-d53ece713a60",
   "metadata": {},
   "outputs": [],
   "source": [
    "cnn = tf.keras.models.Sequential()"
   ]
  },
  {
   "cell_type": "code",
   "execution_count": 24,
   "id": "820dca8f-b934-48b1-b784-c695adb878e3",
   "metadata": {},
   "outputs": [],
   "source": [
    "cnn.add(tf.keras.layers.Conv2D(filters=32,kernel_size=3,padding='same',activation='relu',input_shape=[128,128,3]))\n",
    "cnn.add(tf.keras.layers.Conv2D(filters=32,kernel_size=3,activation='relu')) #ikdun padding kadhla karn model slow hoil\n",
    "cnn.add(tf.keras.layers.MaxPool2D(pool_size=2,strides=2))"
   ]
  },
  {
   "cell_type": "code",
   "execution_count": 26,
   "id": "65e8e3a2-4a25-4633-a34d-b2ae02442eb3",
   "metadata": {},
   "outputs": [],
   "source": [
    "cnn.add(tf.keras.layers.Conv2D(filters=64,kernel_size=3,padding='same',activation='relu',input_shape=[128,128,3]))\n",
    "cnn.add(tf.keras.layers.Conv2D(filters=64,kernel_size=3,activation='relu'))\n",
    "cnn.add(tf.keras.layers.MaxPool2D(pool_size=2,strides=2))"
   ]
  },
  {
   "cell_type": "code",
   "execution_count": 28,
   "id": "e0029beb-973b-4c49-b756-d6d76f57f9ae",
   "metadata": {},
   "outputs": [],
   "source": [
    "cnn.add(tf.keras.layers.Conv2D(filters=128,kernel_size=3,padding='same',activation='relu',input_shape=[128,128,3]))\n",
    "cnn.add(tf.keras.layers.Conv2D(filters=128,kernel_size=3,activation='relu'))\n",
    "cnn.add(tf.keras.layers.MaxPool2D(pool_size=2,strides=2))"
   ]
  },
  {
   "cell_type": "code",
   "execution_count": 30,
   "id": "0d54aad4-b8ba-450c-9205-5af3d195f4e5",
   "metadata": {},
   "outputs": [],
   "source": [
    "cnn.add(tf.keras.layers.Conv2D(filters=256,kernel_size=3,padding='same',activation='relu',input_shape=[128,128,3]))\n",
    "cnn.add(tf.keras.layers.Conv2D(filters=256,kernel_size=3,activation='relu'))\n",
    "cnn.add(tf.keras.layers.MaxPool2D(pool_size=2,strides=2))"
   ]
  },
  {
   "cell_type": "code",
   "execution_count": 32,
   "id": "d007e601-781e-40e3-9044-1873e4a2ad22",
   "metadata": {},
   "outputs": [],
   "source": [
    "cnn.add(tf.keras.layers.Conv2D(filters=512,kernel_size=3,padding='same',activation='relu',input_shape=[128,128,3]))\n",
    "cnn.add(tf.keras.layers.Conv2D(filters=512,kernel_size=3,activation='relu'))\n",
    "cnn.add(tf.keras.layers.MaxPool2D(pool_size=2,strides=2))"
   ]
  },
  {
   "cell_type": "code",
   "execution_count": 143,
   "id": "7bbd2d28-2cd9-4af7-ae69-125ac83de2e9",
   "metadata": {},
   "outputs": [],
   "source": [
    "#cnn.add(tf.keras.layers.Dropout(0.25))"
   ]
  },
  {
   "cell_type": "code",
   "execution_count": 34,
   "id": "4ec70ef0-32b5-41b2-bd6c-099f53a34c1b",
   "metadata": {},
   "outputs": [],
   "source": [
    "cnn.add(tf.keras.layers.Flatten())"
   ]
  },
  {
   "cell_type": "code",
   "execution_count": 36,
   "id": "43c7d638-342b-4b5a-aa9e-62f5bc6e9d0e",
   "metadata": {},
   "outputs": [],
   "source": [
    "cnn.add(tf.keras.layers.Dense(units=1024,activation='relu')) #hidden layer"
   ]
  },
  {
   "cell_type": "code",
   "execution_count": 149,
   "id": "0a346244-eb19-4f5c-a438-3b8e58fb01b1",
   "metadata": {},
   "outputs": [],
   "source": [
    "#cnn.add(tf.keras.layers.Dropout(0.4)) #To avoid overfitting"
   ]
  },
  {
   "cell_type": "code",
   "execution_count": 38,
   "id": "66af7445-de4a-4532-b3d5-93b3ab3805b9",
   "metadata": {},
   "outputs": [],
   "source": [
    "cnn.add(tf.keras.layers.Dense(units=4,activation='softmax')) #output"
   ]
  },
  {
   "cell_type": "code",
   "execution_count": 153,
   "id": "ef5695ec-3dc1-45fa-af85-1ed66386ae0e",
   "metadata": {},
   "outputs": [],
   "source": [
    "#COMPILING MODEL"
   ]
  },
  {
   "cell_type": "code",
   "execution_count": 40,
   "id": "942cd6f7-beb5-42c5-8db4-517dd23bd4ac",
   "metadata": {},
   "outputs": [],
   "source": [
    "cnn.compile(optimizer='adam',loss='categorical_crossentropy',metrics=['accuracy'])"
   ]
  },
  {
   "cell_type": "code",
   "execution_count": 42,
   "id": "d7159284-f885-4eeb-8763-4d998477a41c",
   "metadata": {},
   "outputs": [
    {
     "data": {
      "text/html": [
       "<pre style=\"white-space:pre;overflow-x:auto;line-height:normal;font-family:Menlo,'DejaVu Sans Mono',consolas,'Courier New',monospace\"><span style=\"font-weight: bold\">Model: \"sequential_1\"</span>\n",
       "</pre>\n"
      ],
      "text/plain": [
       "\u001b[1mModel: \"sequential_1\"\u001b[0m\n"
      ]
     },
     "metadata": {},
     "output_type": "display_data"
    },
    {
     "data": {
      "text/html": [
       "<pre style=\"white-space:pre;overflow-x:auto;line-height:normal;font-family:Menlo,'DejaVu Sans Mono',consolas,'Courier New',monospace\">┏━━━━━━━━━━━━━━━━━━━━━━━━━━━━━━━━━┳━━━━━━━━━━━━━━━━━━━━━━━━┳━━━━━━━━━━━━━━━┓\n",
       "┃<span style=\"font-weight: bold\"> Layer (type)                    </span>┃<span style=\"font-weight: bold\"> Output Shape           </span>┃<span style=\"font-weight: bold\">       Param # </span>┃\n",
       "┡━━━━━━━━━━━━━━━━━━━━━━━━━━━━━━━━━╇━━━━━━━━━━━━━━━━━━━━━━━━╇━━━━━━━━━━━━━━━┩\n",
       "│ conv2d_2 (<span style=\"color: #0087ff; text-decoration-color: #0087ff\">Conv2D</span>)               │ (<span style=\"color: #00d7ff; text-decoration-color: #00d7ff\">None</span>, <span style=\"color: #00af00; text-decoration-color: #00af00\">128</span>, <span style=\"color: #00af00; text-decoration-color: #00af00\">128</span>, <span style=\"color: #00af00; text-decoration-color: #00af00\">32</span>)   │           <span style=\"color: #00af00; text-decoration-color: #00af00\">896</span> │\n",
       "├─────────────────────────────────┼────────────────────────┼───────────────┤\n",
       "│ conv2d_3 (<span style=\"color: #0087ff; text-decoration-color: #0087ff\">Conv2D</span>)               │ (<span style=\"color: #00d7ff; text-decoration-color: #00d7ff\">None</span>, <span style=\"color: #00af00; text-decoration-color: #00af00\">126</span>, <span style=\"color: #00af00; text-decoration-color: #00af00\">126</span>, <span style=\"color: #00af00; text-decoration-color: #00af00\">32</span>)   │         <span style=\"color: #00af00; text-decoration-color: #00af00\">9,248</span> │\n",
       "├─────────────────────────────────┼────────────────────────┼───────────────┤\n",
       "│ max_pooling2d_1 (<span style=\"color: #0087ff; text-decoration-color: #0087ff\">MaxPooling2D</span>)  │ (<span style=\"color: #00d7ff; text-decoration-color: #00d7ff\">None</span>, <span style=\"color: #00af00; text-decoration-color: #00af00\">63</span>, <span style=\"color: #00af00; text-decoration-color: #00af00\">63</span>, <span style=\"color: #00af00; text-decoration-color: #00af00\">32</span>)     │             <span style=\"color: #00af00; text-decoration-color: #00af00\">0</span> │\n",
       "├─────────────────────────────────┼────────────────────────┼───────────────┤\n",
       "│ conv2d_4 (<span style=\"color: #0087ff; text-decoration-color: #0087ff\">Conv2D</span>)               │ (<span style=\"color: #00d7ff; text-decoration-color: #00d7ff\">None</span>, <span style=\"color: #00af00; text-decoration-color: #00af00\">63</span>, <span style=\"color: #00af00; text-decoration-color: #00af00\">63</span>, <span style=\"color: #00af00; text-decoration-color: #00af00\">64</span>)     │        <span style=\"color: #00af00; text-decoration-color: #00af00\">18,496</span> │\n",
       "├─────────────────────────────────┼────────────────────────┼───────────────┤\n",
       "│ conv2d_5 (<span style=\"color: #0087ff; text-decoration-color: #0087ff\">Conv2D</span>)               │ (<span style=\"color: #00d7ff; text-decoration-color: #00d7ff\">None</span>, <span style=\"color: #00af00; text-decoration-color: #00af00\">61</span>, <span style=\"color: #00af00; text-decoration-color: #00af00\">61</span>, <span style=\"color: #00af00; text-decoration-color: #00af00\">64</span>)     │        <span style=\"color: #00af00; text-decoration-color: #00af00\">36,928</span> │\n",
       "├─────────────────────────────────┼────────────────────────┼───────────────┤\n",
       "│ max_pooling2d_2 (<span style=\"color: #0087ff; text-decoration-color: #0087ff\">MaxPooling2D</span>)  │ (<span style=\"color: #00d7ff; text-decoration-color: #00d7ff\">None</span>, <span style=\"color: #00af00; text-decoration-color: #00af00\">30</span>, <span style=\"color: #00af00; text-decoration-color: #00af00\">30</span>, <span style=\"color: #00af00; text-decoration-color: #00af00\">64</span>)     │             <span style=\"color: #00af00; text-decoration-color: #00af00\">0</span> │\n",
       "├─────────────────────────────────┼────────────────────────┼───────────────┤\n",
       "│ conv2d_6 (<span style=\"color: #0087ff; text-decoration-color: #0087ff\">Conv2D</span>)               │ (<span style=\"color: #00d7ff; text-decoration-color: #00d7ff\">None</span>, <span style=\"color: #00af00; text-decoration-color: #00af00\">30</span>, <span style=\"color: #00af00; text-decoration-color: #00af00\">30</span>, <span style=\"color: #00af00; text-decoration-color: #00af00\">128</span>)    │        <span style=\"color: #00af00; text-decoration-color: #00af00\">73,856</span> │\n",
       "├─────────────────────────────────┼────────────────────────┼───────────────┤\n",
       "│ conv2d_7 (<span style=\"color: #0087ff; text-decoration-color: #0087ff\">Conv2D</span>)               │ (<span style=\"color: #00d7ff; text-decoration-color: #00d7ff\">None</span>, <span style=\"color: #00af00; text-decoration-color: #00af00\">28</span>, <span style=\"color: #00af00; text-decoration-color: #00af00\">28</span>, <span style=\"color: #00af00; text-decoration-color: #00af00\">128</span>)    │       <span style=\"color: #00af00; text-decoration-color: #00af00\">147,584</span> │\n",
       "├─────────────────────────────────┼────────────────────────┼───────────────┤\n",
       "│ max_pooling2d_3 (<span style=\"color: #0087ff; text-decoration-color: #0087ff\">MaxPooling2D</span>)  │ (<span style=\"color: #00d7ff; text-decoration-color: #00d7ff\">None</span>, <span style=\"color: #00af00; text-decoration-color: #00af00\">14</span>, <span style=\"color: #00af00; text-decoration-color: #00af00\">14</span>, <span style=\"color: #00af00; text-decoration-color: #00af00\">128</span>)    │             <span style=\"color: #00af00; text-decoration-color: #00af00\">0</span> │\n",
       "├─────────────────────────────────┼────────────────────────┼───────────────┤\n",
       "│ conv2d_8 (<span style=\"color: #0087ff; text-decoration-color: #0087ff\">Conv2D</span>)               │ (<span style=\"color: #00d7ff; text-decoration-color: #00d7ff\">None</span>, <span style=\"color: #00af00; text-decoration-color: #00af00\">14</span>, <span style=\"color: #00af00; text-decoration-color: #00af00\">14</span>, <span style=\"color: #00af00; text-decoration-color: #00af00\">256</span>)    │       <span style=\"color: #00af00; text-decoration-color: #00af00\">295,168</span> │\n",
       "├─────────────────────────────────┼────────────────────────┼───────────────┤\n",
       "│ conv2d_9 (<span style=\"color: #0087ff; text-decoration-color: #0087ff\">Conv2D</span>)               │ (<span style=\"color: #00d7ff; text-decoration-color: #00d7ff\">None</span>, <span style=\"color: #00af00; text-decoration-color: #00af00\">12</span>, <span style=\"color: #00af00; text-decoration-color: #00af00\">12</span>, <span style=\"color: #00af00; text-decoration-color: #00af00\">256</span>)    │       <span style=\"color: #00af00; text-decoration-color: #00af00\">590,080</span> │\n",
       "├─────────────────────────────────┼────────────────────────┼───────────────┤\n",
       "│ max_pooling2d_4 (<span style=\"color: #0087ff; text-decoration-color: #0087ff\">MaxPooling2D</span>)  │ (<span style=\"color: #00d7ff; text-decoration-color: #00d7ff\">None</span>, <span style=\"color: #00af00; text-decoration-color: #00af00\">6</span>, <span style=\"color: #00af00; text-decoration-color: #00af00\">6</span>, <span style=\"color: #00af00; text-decoration-color: #00af00\">256</span>)      │             <span style=\"color: #00af00; text-decoration-color: #00af00\">0</span> │\n",
       "├─────────────────────────────────┼────────────────────────┼───────────────┤\n",
       "│ conv2d_10 (<span style=\"color: #0087ff; text-decoration-color: #0087ff\">Conv2D</span>)              │ (<span style=\"color: #00d7ff; text-decoration-color: #00d7ff\">None</span>, <span style=\"color: #00af00; text-decoration-color: #00af00\">6</span>, <span style=\"color: #00af00; text-decoration-color: #00af00\">6</span>, <span style=\"color: #00af00; text-decoration-color: #00af00\">512</span>)      │     <span style=\"color: #00af00; text-decoration-color: #00af00\">1,180,160</span> │\n",
       "├─────────────────────────────────┼────────────────────────┼───────────────┤\n",
       "│ conv2d_11 (<span style=\"color: #0087ff; text-decoration-color: #0087ff\">Conv2D</span>)              │ (<span style=\"color: #00d7ff; text-decoration-color: #00d7ff\">None</span>, <span style=\"color: #00af00; text-decoration-color: #00af00\">4</span>, <span style=\"color: #00af00; text-decoration-color: #00af00\">4</span>, <span style=\"color: #00af00; text-decoration-color: #00af00\">512</span>)      │     <span style=\"color: #00af00; text-decoration-color: #00af00\">2,359,808</span> │\n",
       "├─────────────────────────────────┼────────────────────────┼───────────────┤\n",
       "│ max_pooling2d_5 (<span style=\"color: #0087ff; text-decoration-color: #0087ff\">MaxPooling2D</span>)  │ (<span style=\"color: #00d7ff; text-decoration-color: #00d7ff\">None</span>, <span style=\"color: #00af00; text-decoration-color: #00af00\">2</span>, <span style=\"color: #00af00; text-decoration-color: #00af00\">2</span>, <span style=\"color: #00af00; text-decoration-color: #00af00\">512</span>)      │             <span style=\"color: #00af00; text-decoration-color: #00af00\">0</span> │\n",
       "├─────────────────────────────────┼────────────────────────┼───────────────┤\n",
       "│ flatten (<span style=\"color: #0087ff; text-decoration-color: #0087ff\">Flatten</span>)               │ (<span style=\"color: #00d7ff; text-decoration-color: #00d7ff\">None</span>, <span style=\"color: #00af00; text-decoration-color: #00af00\">2048</span>)           │             <span style=\"color: #00af00; text-decoration-color: #00af00\">0</span> │\n",
       "├─────────────────────────────────┼────────────────────────┼───────────────┤\n",
       "│ dense (<span style=\"color: #0087ff; text-decoration-color: #0087ff\">Dense</span>)                   │ (<span style=\"color: #00d7ff; text-decoration-color: #00d7ff\">None</span>, <span style=\"color: #00af00; text-decoration-color: #00af00\">1024</span>)           │     <span style=\"color: #00af00; text-decoration-color: #00af00\">2,098,176</span> │\n",
       "├─────────────────────────────────┼────────────────────────┼───────────────┤\n",
       "│ dense_1 (<span style=\"color: #0087ff; text-decoration-color: #0087ff\">Dense</span>)                 │ (<span style=\"color: #00d7ff; text-decoration-color: #00d7ff\">None</span>, <span style=\"color: #00af00; text-decoration-color: #00af00\">4</span>)              │         <span style=\"color: #00af00; text-decoration-color: #00af00\">4,100</span> │\n",
       "└─────────────────────────────────┴────────────────────────┴───────────────┘\n",
       "</pre>\n"
      ],
      "text/plain": [
       "┏━━━━━━━━━━━━━━━━━━━━━━━━━━━━━━━━━┳━━━━━━━━━━━━━━━━━━━━━━━━┳━━━━━━━━━━━━━━━┓\n",
       "┃\u001b[1m \u001b[0m\u001b[1mLayer (type)                   \u001b[0m\u001b[1m \u001b[0m┃\u001b[1m \u001b[0m\u001b[1mOutput Shape          \u001b[0m\u001b[1m \u001b[0m┃\u001b[1m \u001b[0m\u001b[1m      Param #\u001b[0m\u001b[1m \u001b[0m┃\n",
       "┡━━━━━━━━━━━━━━━━━━━━━━━━━━━━━━━━━╇━━━━━━━━━━━━━━━━━━━━━━━━╇━━━━━━━━━━━━━━━┩\n",
       "│ conv2d_2 (\u001b[38;5;33mConv2D\u001b[0m)               │ (\u001b[38;5;45mNone\u001b[0m, \u001b[38;5;34m128\u001b[0m, \u001b[38;5;34m128\u001b[0m, \u001b[38;5;34m32\u001b[0m)   │           \u001b[38;5;34m896\u001b[0m │\n",
       "├─────────────────────────────────┼────────────────────────┼───────────────┤\n",
       "│ conv2d_3 (\u001b[38;5;33mConv2D\u001b[0m)               │ (\u001b[38;5;45mNone\u001b[0m, \u001b[38;5;34m126\u001b[0m, \u001b[38;5;34m126\u001b[0m, \u001b[38;5;34m32\u001b[0m)   │         \u001b[38;5;34m9,248\u001b[0m │\n",
       "├─────────────────────────────────┼────────────────────────┼───────────────┤\n",
       "│ max_pooling2d_1 (\u001b[38;5;33mMaxPooling2D\u001b[0m)  │ (\u001b[38;5;45mNone\u001b[0m, \u001b[38;5;34m63\u001b[0m, \u001b[38;5;34m63\u001b[0m, \u001b[38;5;34m32\u001b[0m)     │             \u001b[38;5;34m0\u001b[0m │\n",
       "├─────────────────────────────────┼────────────────────────┼───────────────┤\n",
       "│ conv2d_4 (\u001b[38;5;33mConv2D\u001b[0m)               │ (\u001b[38;5;45mNone\u001b[0m, \u001b[38;5;34m63\u001b[0m, \u001b[38;5;34m63\u001b[0m, \u001b[38;5;34m64\u001b[0m)     │        \u001b[38;5;34m18,496\u001b[0m │\n",
       "├─────────────────────────────────┼────────────────────────┼───────────────┤\n",
       "│ conv2d_5 (\u001b[38;5;33mConv2D\u001b[0m)               │ (\u001b[38;5;45mNone\u001b[0m, \u001b[38;5;34m61\u001b[0m, \u001b[38;5;34m61\u001b[0m, \u001b[38;5;34m64\u001b[0m)     │        \u001b[38;5;34m36,928\u001b[0m │\n",
       "├─────────────────────────────────┼────────────────────────┼───────────────┤\n",
       "│ max_pooling2d_2 (\u001b[38;5;33mMaxPooling2D\u001b[0m)  │ (\u001b[38;5;45mNone\u001b[0m, \u001b[38;5;34m30\u001b[0m, \u001b[38;5;34m30\u001b[0m, \u001b[38;5;34m64\u001b[0m)     │             \u001b[38;5;34m0\u001b[0m │\n",
       "├─────────────────────────────────┼────────────────────────┼───────────────┤\n",
       "│ conv2d_6 (\u001b[38;5;33mConv2D\u001b[0m)               │ (\u001b[38;5;45mNone\u001b[0m, \u001b[38;5;34m30\u001b[0m, \u001b[38;5;34m30\u001b[0m, \u001b[38;5;34m128\u001b[0m)    │        \u001b[38;5;34m73,856\u001b[0m │\n",
       "├─────────────────────────────────┼────────────────────────┼───────────────┤\n",
       "│ conv2d_7 (\u001b[38;5;33mConv2D\u001b[0m)               │ (\u001b[38;5;45mNone\u001b[0m, \u001b[38;5;34m28\u001b[0m, \u001b[38;5;34m28\u001b[0m, \u001b[38;5;34m128\u001b[0m)    │       \u001b[38;5;34m147,584\u001b[0m │\n",
       "├─────────────────────────────────┼────────────────────────┼───────────────┤\n",
       "│ max_pooling2d_3 (\u001b[38;5;33mMaxPooling2D\u001b[0m)  │ (\u001b[38;5;45mNone\u001b[0m, \u001b[38;5;34m14\u001b[0m, \u001b[38;5;34m14\u001b[0m, \u001b[38;5;34m128\u001b[0m)    │             \u001b[38;5;34m0\u001b[0m │\n",
       "├─────────────────────────────────┼────────────────────────┼───────────────┤\n",
       "│ conv2d_8 (\u001b[38;5;33mConv2D\u001b[0m)               │ (\u001b[38;5;45mNone\u001b[0m, \u001b[38;5;34m14\u001b[0m, \u001b[38;5;34m14\u001b[0m, \u001b[38;5;34m256\u001b[0m)    │       \u001b[38;5;34m295,168\u001b[0m │\n",
       "├─────────────────────────────────┼────────────────────────┼───────────────┤\n",
       "│ conv2d_9 (\u001b[38;5;33mConv2D\u001b[0m)               │ (\u001b[38;5;45mNone\u001b[0m, \u001b[38;5;34m12\u001b[0m, \u001b[38;5;34m12\u001b[0m, \u001b[38;5;34m256\u001b[0m)    │       \u001b[38;5;34m590,080\u001b[0m │\n",
       "├─────────────────────────────────┼────────────────────────┼───────────────┤\n",
       "│ max_pooling2d_4 (\u001b[38;5;33mMaxPooling2D\u001b[0m)  │ (\u001b[38;5;45mNone\u001b[0m, \u001b[38;5;34m6\u001b[0m, \u001b[38;5;34m6\u001b[0m, \u001b[38;5;34m256\u001b[0m)      │             \u001b[38;5;34m0\u001b[0m │\n",
       "├─────────────────────────────────┼────────────────────────┼───────────────┤\n",
       "│ conv2d_10 (\u001b[38;5;33mConv2D\u001b[0m)              │ (\u001b[38;5;45mNone\u001b[0m, \u001b[38;5;34m6\u001b[0m, \u001b[38;5;34m6\u001b[0m, \u001b[38;5;34m512\u001b[0m)      │     \u001b[38;5;34m1,180,160\u001b[0m │\n",
       "├─────────────────────────────────┼────────────────────────┼───────────────┤\n",
       "│ conv2d_11 (\u001b[38;5;33mConv2D\u001b[0m)              │ (\u001b[38;5;45mNone\u001b[0m, \u001b[38;5;34m4\u001b[0m, \u001b[38;5;34m4\u001b[0m, \u001b[38;5;34m512\u001b[0m)      │     \u001b[38;5;34m2,359,808\u001b[0m │\n",
       "├─────────────────────────────────┼────────────────────────┼───────────────┤\n",
       "│ max_pooling2d_5 (\u001b[38;5;33mMaxPooling2D\u001b[0m)  │ (\u001b[38;5;45mNone\u001b[0m, \u001b[38;5;34m2\u001b[0m, \u001b[38;5;34m2\u001b[0m, \u001b[38;5;34m512\u001b[0m)      │             \u001b[38;5;34m0\u001b[0m │\n",
       "├─────────────────────────────────┼────────────────────────┼───────────────┤\n",
       "│ flatten (\u001b[38;5;33mFlatten\u001b[0m)               │ (\u001b[38;5;45mNone\u001b[0m, \u001b[38;5;34m2048\u001b[0m)           │             \u001b[38;5;34m0\u001b[0m │\n",
       "├─────────────────────────────────┼────────────────────────┼───────────────┤\n",
       "│ dense (\u001b[38;5;33mDense\u001b[0m)                   │ (\u001b[38;5;45mNone\u001b[0m, \u001b[38;5;34m1024\u001b[0m)           │     \u001b[38;5;34m2,098,176\u001b[0m │\n",
       "├─────────────────────────────────┼────────────────────────┼───────────────┤\n",
       "│ dense_1 (\u001b[38;5;33mDense\u001b[0m)                 │ (\u001b[38;5;45mNone\u001b[0m, \u001b[38;5;34m4\u001b[0m)              │         \u001b[38;5;34m4,100\u001b[0m │\n",
       "└─────────────────────────────────┴────────────────────────┴───────────────┘\n"
      ]
     },
     "metadata": {},
     "output_type": "display_data"
    },
    {
     "data": {
      "text/html": [
       "<pre style=\"white-space:pre;overflow-x:auto;line-height:normal;font-family:Menlo,'DejaVu Sans Mono',consolas,'Courier New',monospace\"><span style=\"font-weight: bold\"> Total params: </span><span style=\"color: #00af00; text-decoration-color: #00af00\">6,814,500</span> (26.00 MB)\n",
       "</pre>\n"
      ],
      "text/plain": [
       "\u001b[1m Total params: \u001b[0m\u001b[38;5;34m6,814,500\u001b[0m (26.00 MB)\n"
      ]
     },
     "metadata": {},
     "output_type": "display_data"
    },
    {
     "data": {
      "text/html": [
       "<pre style=\"white-space:pre;overflow-x:auto;line-height:normal;font-family:Menlo,'DejaVu Sans Mono',consolas,'Courier New',monospace\"><span style=\"font-weight: bold\"> Trainable params: </span><span style=\"color: #00af00; text-decoration-color: #00af00\">6,814,500</span> (26.00 MB)\n",
       "</pre>\n"
      ],
      "text/plain": [
       "\u001b[1m Trainable params: \u001b[0m\u001b[38;5;34m6,814,500\u001b[0m (26.00 MB)\n"
      ]
     },
     "metadata": {},
     "output_type": "display_data"
    },
    {
     "data": {
      "text/html": [
       "<pre style=\"white-space:pre;overflow-x:auto;line-height:normal;font-family:Menlo,'DejaVu Sans Mono',consolas,'Courier New',monospace\"><span style=\"font-weight: bold\"> Non-trainable params: </span><span style=\"color: #00af00; text-decoration-color: #00af00\">0</span> (0.00 B)\n",
       "</pre>\n"
      ],
      "text/plain": [
       "\u001b[1m Non-trainable params: \u001b[0m\u001b[38;5;34m0\u001b[0m (0.00 B)\n"
      ]
     },
     "metadata": {},
     "output_type": "display_data"
    }
   ],
   "source": [
    "cnn.summary()"
   ]
  },
  {
   "cell_type": "code",
   "execution_count": 313,
   "id": "0a5bb219-a567-480e-b90b-2aced9a413f6",
   "metadata": {},
   "outputs": [],
   "source": [
    "#MODEL TRAINING"
   ]
  },
  {
   "cell_type": "code",
   "execution_count": 52,
   "id": "d09657bd-a985-4387-ac5a-2e4e50606913",
   "metadata": {},
   "outputs": [
    {
     "name": "stdout",
     "output_type": "stream",
     "text": [
      "Epoch 1/10\n",
      "\u001b[1m211/211\u001b[0m \u001b[32m━━━━━━━━━━━━━━━━━━━━\u001b[0m\u001b[37m\u001b[0m \u001b[1m213s\u001b[0m 1s/step - accuracy: 0.6227 - loss: 2.4419 - val_accuracy: 0.7884 - val_loss: 0.5435\n",
      "Epoch 2/10\n",
      "\u001b[1m211/211\u001b[0m \u001b[32m━━━━━━━━━━━━━━━━━━━━\u001b[0m\u001b[37m\u001b[0m \u001b[1m247s\u001b[0m 1s/step - accuracy: 0.8187 - loss: 0.4603 - val_accuracy: 0.8815 - val_loss: 0.3506\n",
      "Epoch 3/10\n",
      "\u001b[1m211/211\u001b[0m \u001b[32m━━━━━━━━━━━━━━━━━━━━\u001b[0m\u001b[37m\u001b[0m \u001b[1m248s\u001b[0m 1s/step - accuracy: 0.8506 - loss: 0.3924 - val_accuracy: 0.8648 - val_loss: 0.3304\n",
      "Epoch 4/10\n",
      "\u001b[1m211/211\u001b[0m \u001b[32m━━━━━━━━━━━━━━━━━━━━\u001b[0m\u001b[37m\u001b[0m \u001b[1m259s\u001b[0m 1s/step - accuracy: 0.8770 - loss: 0.3032 - val_accuracy: 0.8966 - val_loss: 0.3165\n",
      "Epoch 5/10\n",
      "\u001b[1m211/211\u001b[0m \u001b[32m━━━━━━━━━━━━━━━━━━━━\u001b[0m\u001b[37m\u001b[0m \u001b[1m271s\u001b[0m 1s/step - accuracy: 0.9036 - loss: 0.2599 - val_accuracy: 0.9015 - val_loss: 0.2803\n",
      "Epoch 6/10\n",
      "\u001b[1m211/211\u001b[0m \u001b[32m━━━━━━━━━━━━━━━━━━━━\u001b[0m\u001b[37m\u001b[0m \u001b[1m324s\u001b[0m 2s/step - accuracy: 0.8949 - loss: 0.2808 - val_accuracy: 0.9267 - val_loss: 0.1951\n",
      "Epoch 7/10\n",
      "\u001b[1m211/211\u001b[0m \u001b[32m━━━━━━━━━━━━━━━━━━━━\u001b[0m\u001b[37m\u001b[0m \u001b[1m326s\u001b[0m 2s/step - accuracy: 0.9252 - loss: 0.1916 - val_accuracy: 0.9161 - val_loss: 0.2224\n",
      "Epoch 8/10\n",
      "\u001b[1m211/211\u001b[0m \u001b[32m━━━━━━━━━━━━━━━━━━━━\u001b[0m\u001b[37m\u001b[0m \u001b[1m303s\u001b[0m 1s/step - accuracy: 0.9328 - loss: 0.1817 - val_accuracy: 0.9438 - val_loss: 0.1589\n",
      "Epoch 9/10\n",
      "\u001b[1m211/211\u001b[0m \u001b[32m━━━━━━━━━━━━━━━━━━━━\u001b[0m\u001b[37m\u001b[0m \u001b[1m355s\u001b[0m 2s/step - accuracy: 0.9315 - loss: 0.1734 - val_accuracy: 0.9500 - val_loss: 0.1202\n",
      "Epoch 10/10\n",
      "\u001b[1m211/211\u001b[0m \u001b[32m━━━━━━━━━━━━━━━━━━━━\u001b[0m\u001b[37m\u001b[0m \u001b[1m357s\u001b[0m 2s/step - accuracy: 0.9400 - loss: 0.1632 - val_accuracy: 0.8959 - val_loss: 0.3141\n"
     ]
    }
   ],
   "source": [
    "training_history = cnn.fit(x=training_set,validation_data=validation_set,epochs=10)"
   ]
  },
  {
   "cell_type": "code",
   "execution_count": null,
   "id": "468e1a9a-2672-40b5-8252-427ce25bc836",
   "metadata": {},
   "outputs": [],
   "source": [
    "# MODEL EVALUATION"
   ]
  },
  {
   "cell_type": "code",
   "execution_count": 53,
   "id": "1d757d34-745d-4207-a6a1-ecce995ca5cd",
   "metadata": {},
   "outputs": [
    {
     "name": "stdout",
     "output_type": "stream",
     "text": [
      "\u001b[1m211/211\u001b[0m \u001b[32m━━━━━━━━━━━━━━━━━━━━\u001b[0m\u001b[37m\u001b[0m \u001b[1m78s\u001b[0m 371ms/step - accuracy: 0.8943 - loss: 0.3171\n",
      "Training accuracy: 0.8958953022956848\n"
     ]
    }
   ],
   "source": [
    "train_loss, train_acc = cnn.evaluate(training_set) #training set accuracy\n",
    "print('Training accuracy:', train_acc)"
   ]
  },
  {
   "cell_type": "code",
   "execution_count": 54,
   "id": "5ac16e8d-f352-4762-87ca-bfb6ad6f6e88",
   "metadata": {},
   "outputs": [
    {
     "name": "stdout",
     "output_type": "stream",
     "text": [
      "\u001b[1m211/211\u001b[0m \u001b[32m━━━━━━━━━━━━━━━━━━━━\u001b[0m\u001b[37m\u001b[0m \u001b[1m76s\u001b[0m 358ms/step - accuracy: 0.8979 - loss: 0.3064\n",
      "Validation accuracy: 0.8958953022956848\n"
     ]
    }
   ],
   "source": [
    "valid_loss, valid_acc = cnn.evaluate(validation_set) #validation set accuracy\n",
    "print('Validation accuracy:', valid_acc)"
   ]
  },
  {
   "cell_type": "code",
   "execution_count": null,
   "id": "467f5f6e-736f-4dd9-93f6-102a1bba641a",
   "metadata": {},
   "outputs": [],
   "source": [
    "#saving model"
   ]
  },
  {
   "cell_type": "code",
   "execution_count": 74,
   "id": "14e78c2b-e18a-4119-815f-cf84be39b625",
   "metadata": {},
   "outputs": [],
   "source": [
    "cnn.save('trained_plant_disease_model.keras')"
   ]
  },
  {
   "cell_type": "code",
   "execution_count": 76,
   "id": "50176087-b3b6-4e02-a32e-7ac656a7e9ec",
   "metadata": {},
   "outputs": [
    {
     "data": {
      "text/plain": [
       "{'accuracy': [0.6964604258537292,\n",
       "  0.8306067585945129,\n",
       "  0.8640689849853516,\n",
       "  0.8874182105064392,\n",
       "  0.9006543755531311,\n",
       "  0.9052647352218628,\n",
       "  0.9256395101547241,\n",
       "  0.9318857789039612,\n",
       "  0.9336704611778259,\n",
       "  0.9373884797096252],\n",
       " 'loss': [1.0295801162719727,\n",
       "  0.42829811573028564,\n",
       "  0.35802456736564636,\n",
       "  0.2841540575027466,\n",
       "  0.2687304615974426,\n",
       "  0.2575682997703552,\n",
       "  0.18914668262004852,\n",
       "  0.1803283393383026,\n",
       "  0.17269305884838104,\n",
       "  0.1751718372106552],\n",
       " 'val_accuracy': [0.7883700132369995,\n",
       "  0.8814693689346313,\n",
       "  0.8648126125335693,\n",
       "  0.8966389298439026,\n",
       "  0.9015467166900635,\n",
       "  0.9266805648803711,\n",
       "  0.9161213636398315,\n",
       "  0.9437834620475769,\n",
       "  0.950029730796814,\n",
       "  0.8958953022956848],\n",
       " 'val_loss': [0.5435236096382141,\n",
       "  0.35057732462882996,\n",
       "  0.3304252624511719,\n",
       "  0.31647175550460815,\n",
       "  0.280300498008728,\n",
       "  0.19508399069309235,\n",
       "  0.22235232591629028,\n",
       "  0.15892140567302704,\n",
       "  0.12019065767526627,\n",
       "  0.3140602707862854]}"
      ]
     },
     "execution_count": 76,
     "metadata": {},
     "output_type": "execute_result"
    }
   ],
   "source": [
    "training_history.history #Return Dictionary of history"
   ]
  },
  {
   "cell_type": "code",
   "execution_count": null,
   "id": "4ad83895-d17b-484f-95c5-c25d1fada7fa",
   "metadata": {},
   "outputs": [],
   "source": [
    "#recording history in json format"
   ]
  },
  {
   "cell_type": "code",
   "execution_count": 78,
   "id": "3aae9cd1-2a3e-4ae6-9d8a-529b0ff1358f",
   "metadata": {},
   "outputs": [],
   "source": [
    "#Recording History in json\n",
    "import json\n",
    "with open('training_hist.json','w') as f:\n",
    "  json.dump(training_history.history,f)"
   ]
  },
  {
   "cell_type": "code",
   "execution_count": null,
   "id": "3e188107-b1f6-4732-bf03-b802c7f46eb8",
   "metadata": {},
   "outputs": [],
   "source": [
    "#Accuracy Visualization"
   ]
  },
  {
   "cell_type": "code",
   "execution_count": 80,
   "id": "9e90fcb4-4742-4c91-a788-0f874bd34f92",
   "metadata": {},
   "outputs": [
    {
     "data": {
      "image/png": "[encoded data removed]",
      "text/plain": [
       "<Figure size 640x480 with 1 Axes>"
      ]
     },
     "metadata": {},
     "output_type": "display_data"
    }
   ],
   "source": [
    "epochs = [i for i in range(1,11)]\n",
    "plt.plot(epochs,training_history.history['accuracy'],color='red',label='Training Accuracy')\n",
    "plt.plot(epochs,training_history.history['val_accuracy'],color='blue',label='Validation Accuracy')\n",
    "plt.xlabel('No. of Epochs')\n",
    "plt.title('Visualization of Accuracy Result')\n",
    "plt.legend()\n",
    "plt.show()"
   ]
  },
  {
   "cell_type": "code",
   "execution_count": null,
   "id": "7c035b56-6732-45d6-9df8-7cd367874b01",
   "metadata": {},
   "outputs": [],
   "source": [
    "#Some other metrics for model evaluation"
   ]
  },
  {
   "cell_type": "code",
   "execution_count": 82,
   "id": "61e027d9-c14d-4924-ae2e-049ae850dc21",
   "metadata": {},
   "outputs": [
    {
     "data": {
      "text/plain": [
       "['Fresh Dragon Fruit', 'Rust Spot', 'Soft Rot Fruit', 'Stem Canker']"
      ]
     },
     "execution_count": 82,
     "metadata": {},
     "output_type": "execute_result"
    }
   ],
   "source": [
    "class_name = validation_set.class_names\n",
    "class_name"
   ]
  },
  {
   "cell_type": "code",
   "execution_count": 84,
   "id": "787f49d4-f045-4f04-abd4-5f415317991d",
   "metadata": {},
   "outputs": [
    {
     "name": "stdout",
     "output_type": "stream",
     "text": [
      "Found 6724 files belonging to 4 classes.\n"
     ]
    }
   ],
   "source": [
    "test_set = tf.keras.utils.image_dataset_from_directory(\n",
    "    'Augmented Dataset',\n",
    "    labels=\"inferred\",\n",
    "    label_mode=\"categorical\",\n",
    "    class_names=None,\n",
    "    color_mode=\"rgb\",\n",
    "    batch_size=1,\n",
    "    image_size=(128, 128),\n",
    "    shuffle=False,\n",
    "    seed=None,\n",
    "    validation_split=None,\n",
    "    subset=None,\n",
    "    interpolation=\"bilinear\",\n",
    "    follow_links=False,\n",
    "    crop_to_aspect_ratio=False\n",
    ")"
   ]
  },
  {
   "cell_type": "code",
   "execution_count": 86,
   "id": "e72a65c1-fe3f-4d76-9040-20b077c703c8",
   "metadata": {},
   "outputs": [
    {
     "name": "stdout",
     "output_type": "stream",
     "text": [
      "\u001b[1m6724/6724\u001b[0m \u001b[32m━━━━━━━━━━━━━━━━━━━━\u001b[0m\u001b[37m\u001b[0m \u001b[1m79s\u001b[0m 12ms/step\n"
     ]
    }
   ],
   "source": [
    "y_pred = cnn.predict(test_set)"
   ]
  },
  {
   "cell_type": "code",
   "execution_count": 88,
   "id": "83477d53-b3fe-4674-965e-99b177f0746e",
   "metadata": {},
   "outputs": [
    {
     "data": {
      "text/plain": [
       "(array([[9.9578708e-01, 3.8090994e-04, 3.8204140e-03, 1.1545929e-05],\n",
       "        [4.4215874e-05, 9.9995577e-01, 9.0753804e-09, 3.7499479e-09],\n",
       "        [9.9301070e-01, 5.6296820e-03, 1.3524444e-03, 7.0555047e-06],\n",
       "        ...,\n",
       "        [1.1720417e-05, 9.4140875e-01, 5.2388195e-02, 6.1914241e-03],\n",
       "        [2.9784478e-06, 9.5386672e-01, 4.0532045e-02, 5.5982783e-03],\n",
       "        [6.0433827e-06, 9.5023060e-01, 4.4513546e-02, 5.2498765e-03]],\n",
       "       dtype=float32),\n",
       " (6724, 4))"
      ]
     },
     "execution_count": 88,
     "metadata": {},
     "output_type": "execute_result"
    }
   ],
   "source": [
    "y_pred, y_pred.shape"
   ]
  },
  {
   "cell_type": "code",
   "execution_count": 90,
   "id": "b2616800-f806-4d26-b9b3-a7fa5d8f6471",
   "metadata": {},
   "outputs": [],
   "source": [
    "predicted_categories = tf.argmax(y_pred, axis=1)"
   ]
  },
  {
   "cell_type": "code",
   "execution_count": 92,
   "id": "1137bc8e-717d-42ee-b052-6097f660d170",
   "metadata": {},
   "outputs": [
    {
     "data": {
      "text/plain": [
       "<tf.Tensor: shape=(6724,), dtype=int64, numpy=array([0, 1, 0, ..., 1, 1, 1])>"
      ]
     },
     "execution_count": 92,
     "metadata": {},
     "output_type": "execute_result"
    }
   ],
   "source": [
    "predicted_categories"
   ]
  },
  {
   "cell_type": "code",
   "execution_count": 100,
   "id": "b695a5b7-29b8-4c9c-844d-4027461e4c7c",
   "metadata": {},
   "outputs": [],
   "source": [
    "true_categories = tf.concat([y for x, y in test_set], axis=0) "
   ]
  },
  {
   "cell_type": "code",
   "execution_count": 101,
   "id": "5a178880-a0ff-4b2e-a761-5898952cdb4c",
   "metadata": {},
   "outputs": [
    {
     "data": {
      "text/plain": [
       "<tf.Tensor: shape=(6724, 4), dtype=float32, numpy=\n",
       "array([[1., 0., 0., 0.],\n",
       "       [1., 0., 0., 0.],\n",
       "       [1., 0., 0., 0.],\n",
       "       ...,\n",
       "       [0., 0., 0., 1.],\n",
       "       [0., 0., 0., 1.],\n",
       "       [0., 0., 0., 1.]], dtype=float32)>"
      ]
     },
     "execution_count": 101,
     "metadata": {},
     "output_type": "execute_result"
    }
   ],
   "source": [
    "true_categories #gives result in the form of OHE"
   ]
  },
  {
   "cell_type": "code",
   "execution_count": 104,
   "id": "c245ab8e-b0f8-4fb3-945e-734f14945bd8",
   "metadata": {},
   "outputs": [],
   "source": [
    "Y_true = tf.argmax(true_categories, axis=1)"
   ]
  },
  {
   "cell_type": "code",
   "execution_count": 106,
   "id": "1c654042-aadd-4089-bff3-e01d0f330798",
   "metadata": {},
   "outputs": [
    {
     "data": {
      "text/plain": [
       "<tf.Tensor: shape=(6724,), dtype=int64, numpy=array([0, 0, 0, ..., 3, 3, 3])>"
      ]
     },
     "execution_count": 106,
     "metadata": {},
     "output_type": "execute_result"
    }
   ],
   "source": [
    "Y_true"
   ]
  },
  {
   "cell_type": "code",
   "execution_count": 108,
   "id": "92fc4668-2204-4282-8b3a-c7462b9765c4",
   "metadata": {},
   "outputs": [
    {
     "data": {
      "text/plain": [
       "<tf.Tensor: shape=(6724,), dtype=int64, numpy=array([0, 1, 0, ..., 1, 1, 1])>"
      ]
     },
     "execution_count": 108,
     "metadata": {},
     "output_type": "execute_result"
    }
   ],
   "source": [
    "predicted_categories"
   ]
  },
  {
   "cell_type": "code",
   "execution_count": 110,
   "id": "dcca0dbd-ccb7-4e27-9e84-7626000c8db1",
   "metadata": {},
   "outputs": [
    {
     "name": "stdout",
     "output_type": "stream",
     "text": [
      "Collecting scikit-learn\n",
      "  Downloading scikit_learn-1.6.1-cp312-cp312-macosx_12_0_arm64.whl.metadata (31 kB)\n",
      "Requirement already satisfied: numpy>=1.19.5 in /Users/shrutisakhare/test_venv/lib/python3.12/site-packages (from scikit-learn) (2.0.2)\n",
      "Collecting scipy>=1.6.0 (from scikit-learn)\n",
      "  Downloading scipy-1.15.1-cp312-cp312-macosx_14_0_arm64.whl.metadata (61 kB)\n",
      "Collecting joblib>=1.2.0 (from scikit-learn)\n",
      "  Using cached joblib-1.4.2-py3-none-any.whl.metadata (5.4 kB)\n",
      "Collecting threadpoolctl>=3.1.0 (from scikit-learn)\n",
      "  Using cached threadpoolctl-3.5.0-py3-none-any.whl.metadata (13 kB)\n",
      "Downloading scikit_learn-1.6.1-cp312-cp312-macosx_12_0_arm64.whl (11.2 MB)\n",
      "\u001b[2K   \u001b[90m━━━━━━━━━━━━━━━━━━━━━━━━━━━━━━━━━━━━━━━━\u001b[0m \u001b[32m11.2/11.2 MB\u001b[0m \u001b[31m3.7 MB/s\u001b[0m eta \u001b[36m0:00:00\u001b[0ma \u001b[36m0:00:01\u001b[0m\n",
      "\u001b[?25hUsing cached joblib-1.4.2-py3-none-any.whl (301 kB)\n",
      "Downloading scipy-1.15.1-cp312-cp312-macosx_14_0_arm64.whl (24.9 MB)\n",
      "\u001b[2K   \u001b[90m━━━━━━━━━━━━━━━━━━━━━━━━━━━━━━━━━━━━━━━━\u001b[0m \u001b[32m24.9/24.9 MB\u001b[0m \u001b[31m2.7 MB/s\u001b[0m eta \u001b[36m0:00:00\u001b[0m00:01\u001b[0m00:01\u001b[0m\n",
      "\u001b[?25hUsing cached threadpoolctl-3.5.0-py3-none-any.whl (18 kB)\n",
      "Installing collected packages: threadpoolctl, scipy, joblib, scikit-learn\n",
      "Successfully installed joblib-1.4.2 scikit-learn-1.6.1 scipy-1.15.1 threadpoolctl-3.5.0\n",
      "\n",
      "\u001b[1m[\u001b[0m\u001b[34;49mnotice\u001b[0m\u001b[1;39;49m]\u001b[0m\u001b[39;49m A new release of pip is available: \u001b[0m\u001b[31;49m24.2\u001b[0m\u001b[39;49m -> \u001b[0m\u001b[32;49m25.0\u001b[0m\n",
      "\u001b[1m[\u001b[0m\u001b[34;49mnotice\u001b[0m\u001b[1;39;49m]\u001b[0m\u001b[39;49m To update, run: \u001b[0m\u001b[32;49mpython -m pip install --upgrade pip\u001b[0m\n",
      "Note: you may need to restart the kernel to use updated packages.\n"
     ]
    }
   ],
   "source": [
    "pip install scikit-learn"
   ]
  },
  {
   "cell_type": "code",
   "execution_count": 151,
   "id": "4535eda9-4c58-4879-8c58-c00b3befb0ff",
   "metadata": {},
   "outputs": [],
   "source": [
    "from sklearn.metrics import confusion_matrix,classification_report\n",
    "cm = confusion_matrix(Y_true,predicted_categories)"
   ]
  },
  {
   "cell_type": "code",
   "execution_count": 153,
   "id": "f6754310-294d-471f-b063-a6b3d370d693",
   "metadata": {},
   "outputs": [
    {
     "name": "stdout",
     "output_type": "stream",
     "text": [
      "                    precision    recall  f1-score   support\n",
      "\n",
      "Fresh Dragon Fruit       0.95      0.87      0.91      2000\n",
      "         Rust Spot       0.51      0.95      0.66       642\n",
      "    Soft Rot Fruit       0.99      0.91      0.95      4050\n",
      "       Stem Canker       0.00      0.00      0.00        32\n",
      "\n",
      "          accuracy                           0.90      6724\n",
      "         macro avg       0.61      0.68      0.63      6724\n",
      "      weighted avg       0.93      0.90      0.91      6724\n",
      "\n"
     ]
    }
   ],
   "source": [
    "print(classification_report(Y_true,predicted_categories,target_names=class_name))"
   ]
  },
  {
   "cell_type": "code",
   "execution_count": 155,
   "id": "582a96b7-4747-4cb6-b513-89b357c9947a",
   "metadata": {},
   "outputs": [
    {
     "data": {
      "text/plain": [
       "array([[1738,  253,    9,    0],\n",
       "       [  16,  613,   13,    0],\n",
       "       [  65,  312, 3673,    0],\n",
       "       [   3,   27,    2,    0]])"
      ]
     },
     "execution_count": 155,
     "metadata": {},
     "output_type": "execute_result"
    }
   ],
   "source": [
    "cm = confusion_matrix(Y_true,predicted_categories)\n",
    "cm"
   ]
  },
  {
   "cell_type": "code",
   "execution_count": 157,
   "id": "02d8a732-62fc-4de5-8ad7-58e8262c01da",
   "metadata": {},
   "outputs": [
    {
     "data": {
      "text/plain": [
       "(4, 4)"
      ]
     },
     "execution_count": 157,
     "metadata": {},
     "output_type": "execute_result"
    }
   ],
   "source": [
    "cm.shape"
   ]
  },
  {
   "cell_type": "code",
   "execution_count": null,
   "id": "4cdfb0af-92f9-4e6b-9c52-4989ae4fdf44",
   "metadata": {},
   "outputs": [],
   "source": [
    "#Confusion Matrix Visualization"
   ]
  },
  {
   "cell_type": "code",
   "execution_count": 163,
   "id": "fd3f5025-15be-42a8-b477-89fedff1dd3e",
   "metadata": {},
   "outputs": [
    {
     "data": {
      "image/png": "[encoded data removed]",
      "text/plain": [
       "<Figure size 500x500 with 2 Axes>"
      ]
     },
     "metadata": {},
     "output_type": "display_data"
    }
   ],
   "source": [
    "plt.figure(figsize=(5, 5))\n",
    "sns.heatmap(cm,annot=True,annot_kws={\"size\": 10})\n",
    "plt.xlabel('Predicted Class',fontsize = 10)\n",
    "plt.ylabel('Actual Class',fontsize = 10)\n",
    "plt.title('Plant Disease Prediction Confusion Matrix',fontsize = 10)\n",
    "plt.show()"
   ]
  },
  {
   "cell_type": "code",
   "execution_count": null,
   "id": "8e54cdba-e803-4197-b6c7-417e46d4e9e9",
   "metadata": {},
   "outputs": [],
   "source": []
  }
 ],
 "metadata": {
  "kernelspec": {
   "display_name": "test_venv",
   "language": "python",
   "name": "test_venv"
  },
  "language_info": {
   "codemirror_mode": {
    "name": "ipython",
    "version": 3
   },
   "file_extension": ".py",
   "mimetype": "text/x-python",
   "name": "python",
   "nbconvert_exporter": "python",
   "pygments_lexer": "ipython3",
   "version": "3.12.7"
  }
 },
 "nbformat": 4,
 "nbformat_minor": 5
}
